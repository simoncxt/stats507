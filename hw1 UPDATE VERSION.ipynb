{
 "cells": [
  {
   "cell_type": "markdown",
   "id": "6f84215d",
   "metadata": {},
   "source": [
    "\n",
    "\n",
    "<p>This is question 0 for <a href=\"https://jbhender.github.io/Stats507/F21/ps/ps1.html\">problem set 1</a> of <a href=\"https://jbhender.github.io/Stats507/F21/\">Stats 507</a>.</p>\n",
    "<blockquote>\n",
    "<p>Question 0 is about Markdown.  </p>\n",
    "</blockquote>\n",
    "<p>The next question is about the <strong>Fibonacci sequence</strong>, $F_{n} =F_{n-2} +F_{n-1}$ In part <strong>a</strong> we will define a Python function fib_rec().<br />\n",
    "Below is a...</p>\n",
    "<h1>Level 3 header</h1>\n",
    "<p>Next, we can make a bullet list:  </p>\n",
    "<pre><code>    -Item 1\n",
    "\n",
    "        -detail 1\n",
    "        -detail 2  \n",
    "    -Item 2\n",
    "</code></pre>\n",
    "<p>Finally, we can make an enumerated list:  </p>\n",
    "<pre><code>    a. Item 1  \n",
    "    b. Item 2  \n",
    "    c. Item 3\n",
    "</code></pre>\n"
   ]
  },
  {
   "cell_type": "code",
   "execution_count": 52,
   "id": "774e4423",
   "metadata": {},
   "outputs": [],
   "source": [
    "# import markdown\n",
    "import markdown\n",
    "import math\n",
    "import time\n",
    "import numpy as np\n",
    "import scipy.stats as stats\n",
    "import pandas as pd\n",
    "from collections import defaultdict\n",
    "from timeit import Timer\n",
    "from math import factorial\n"
   ]
  },
  {
   "cell_type": "code",
   "execution_count": 26,
   "id": "9ebc466e",
   "metadata": {},
   "outputs": [
    {
     "name": "stdout",
     "output_type": "stream",
     "text": [
      "When n = 7, the value is 13 .When n = 11, the value is 89 . When n = 13, the value is 233\n"
     ]
    }
   ],
   "source": [
    "##Q1 A\n",
    "##the funtion will start to calculate the result from the third factor, when n <=1, will return to 0 and 1.\n",
    "a = 0\n",
    "b = 1\n",
    "def fib_rec(n):\n",
    "    if n==a:\n",
    "        return 0\n",
    "    if n==b:\n",
    "        return 1\n",
    "    else:\n",
    "        return(fib_rec(n-1)+fib_rec(n-2))\n",
    "    \n",
    "print('When n = 7, the value is ' + str(fib_rec(7)) + ' .When n = 11, the value is ' + str(fib_rec(11)) + ' . When n = 13, the value is ' + str(fib_rec(13)))\n"
   ]
  },
  {
   "cell_type": "code",
   "execution_count": 27,
   "id": "866b33f4",
   "metadata": {},
   "outputs": [
    {
     "name": "stdout",
     "output_type": "stream",
     "text": [
      "When n = 7, the value is 13 .When n = 11, the value is 89 . When n = 13, the value is 233\n"
     ]
    }
   ],
   "source": [
    "##Q1 B\n",
    "##the function will run c-1 times, variable b will calculate the result of the function by increasing the value of a every time the for loop run.\n",
    "def fib_for(c):\n",
    "    if c == 0:\n",
    "        return 0\n",
    "    if c == 1:\n",
    "        return 1\n",
    "    else: \n",
    "        a = 0\n",
    "        b = 1\n",
    "        for _ in range (c-1):\n",
    "            a, b = b, a+b\n",
    "        return b\n",
    "            \n",
    "print('When n = 7, the value is ' + str(fib_for(7)) + ' .When n = 11, the value is ' + str(fib_for(11)) + ' . When n = 13, the value is ' + str(fib_for(13)))"
   ]
  },
  {
   "cell_type": "code",
   "execution_count": 28,
   "id": "2f8f745b",
   "metadata": {},
   "outputs": [
    {
     "name": "stdout",
     "output_type": "stream",
     "text": [
      "When n = 7, the value is 13 .When n = 11, the value is 89 . When n = 13, the value is 233\n"
     ]
    }
   ],
   "source": [
    "##Q1 C\n",
    "##when c > 1, each time the value of b will be increased by a and the value of c will decrease by 1.\n",
    "def fib_whl(c):\n",
    "    if c == 0:\n",
    "        return 0\n",
    "    if c == 1:\n",
    "        return 1\n",
    "    else: \n",
    "        a = 0\n",
    "        b = 1\n",
    "        while c > 1:\n",
    "           a, b = b, a+b\n",
    "           c -= 1\n",
    "        return b    \n",
    "print('When n = 7, the value is ' + str(fib_whl(7)) + ' .When n = 11, the value is ' + str(fib_whl(11)) + ' . When n = 13, the value is ' + str(fib_whl(13)))"
   ]
  },
  {
   "cell_type": "code",
   "execution_count": 29,
   "id": "b6a1a525",
   "metadata": {},
   "outputs": [
    {
     "name": "stdout",
     "output_type": "stream",
     "text": [
      "When n = 7, the value is 13 .When n = 11, the value is 89 . When n = 13, the value is 233\n"
     ]
    }
   ],
   "source": [
    "##Q1 D\n",
    "##follow the formula to calculate Fn = (((1+5^(1/2))/2)^n)/5^(1/2)\n",
    "d=(1 + math.sqrt(5))/2\n",
    "def fib_rnd(n):\n",
    "    if n >= 0:\n",
    "        return round ((d**float(n))/math.sqrt(5))\n",
    "\n",
    "print('When n = 7, the value is ' + str(fib_rnd(7)) + ' .When n = 11, the value is ' + str(fib_rnd(11)) + ' . When n = 13, the value is ' + str(fib_rnd(13)))"
   ]
  },
  {
   "cell_type": "code",
   "execution_count": 30,
   "id": "0a4821a8",
   "metadata": {},
   "outputs": [
    {
     "name": "stdout",
     "output_type": "stream",
     "text": [
      "When n = 7, the value is 13 .When n = 11, the value is 89 . When n = 13, the value is 233\n"
     ]
    }
   ],
   "source": [
    "##Q1 E\n",
    "##follow the formula that Fn equals to the floor of ((((1+5^(1/2))/2)^n)/5^(1/2))+1/2\n",
    "d=(1 + math.sqrt(5))/2\n",
    "def fib_flr(n):\n",
    "    if n >= 0:\n",
    "        return math.floor(((d**float(n))/math.sqrt(5))+1/2)\n",
    "    \n",
    "print('When n = 7, the value is ' + str(fib_flr(7)) + ' .When n = 11, the value is ' + str(fib_flr(11)) + ' . When n = 13, the value is ' + str(fib_flr(13)))"
   ]
  },
  {
   "cell_type": "code",
   "execution_count": null,
   "id": "a701c92f",
   "metadata": {},
   "outputs": [
    {
     "name": "stdout",
     "output_type": "stream",
     "text": [
      "[40, 45, 50, 55]\n"
     ]
    }
   ],
   "source": [
    "##Q1 F\n",
    "##choose variable from 40-60\n",
    "N = list(range(40,60,5))\n",
    "print(N)\n",
    "\n",
    "##for each variable, the method will run it for 10 times and calculate the median\n",
    "time_lst = defaultdict(list)\n",
    "for f in [fib_rec, fib_for, fib_whl, fib_rnd, fib_flr]:\n",
    "    for i in N:\n",
    "        t = Timer ('f(i)', globals={'f': f, 'i': i})\n",
    "        tm = t.repeat(repeat=10, number=1)\n",
    "        time_lst['Function'].append(f.__name__)\n",
    "        time_lst['n'].append(i)\n",
    "        time_lst['median, s'].append(np.median(tm))\n",
    "    \n",
    "time_lst = pd.DataFrame(time_lst)\n",
    "for c, d in zip(time_lst.columns, time_lst.dtypes):\n",
    "    if d == np.dtype('float64'):\n",
    "        time_lst[c] = time_lst[c].map(lambda x: '%5.3f' % x)\n",
    "time_lst\n",
    "##print the result into a from; the column is Function and the row shows n (variable)\n",
    "print(time_lst.pivot(columns = 'Function', index = 'n', values = 'median, s'))"
   ]
  },
  {
   "cell_type": "code",
   "execution_count": 32,
   "id": "b1409009",
   "metadata": {},
   "outputs": [
    {
     "name": "stdout",
     "output_type": "stream",
     "text": [
      "1  4  6  4  1"
     ]
    }
   ],
   "source": [
    "##Q2 A\n",
    "\n",
    "def specificrow(N) :\n",
    "   \n",
    "    #The first factor is always 1\n",
    "    firstfactor = 1\n",
    "    print (firstfactor, end = '')\n",
    "    \n",
    "    for a in range (1, N + 1):\n",
    "        \n",
    "        #  nCr = (nCr-1 * (n - r + 1))/r\n",
    "        nextfactor = (firstfactor * (N - a + 1)) // a\n",
    "        print(\" \", nextfactor, end = '')\n",
    "        firstfactor = nextfactor\n",
    "        \n",
    "N=4\n",
    "\n",
    "specificrow(N)    "
   ]
  },
  {
   "cell_type": "code",
   "execution_count": 33,
   "id": "5ceecf89",
   "metadata": {},
   "outputs": [
    {
     "name": "stdout",
     "output_type": "stream",
     "text": [
      "           1 \n",
      "          1 1 \n",
      "         1 2 1 \n",
      "        1 3 3 1 \n",
      "       1 4 6 4 1 \n",
      "      1 5 10 10 5 1 \n",
      "     1 6 15 20 15 6 1 \n",
      "    1 7 21 35 35 21 7 1 \n",
      "   1 8 28 56 70 56 28 8 1 \n",
      "  1 9 36 84 126 126 84 36 9 1 \n",
      "None\n"
     ]
    }
   ],
   "source": [
    "##Q2 B\n",
    "\n",
    "def firstrow(n):\n",
    "    \n",
    "    for i in range(n):\n",
    "        for j in range(n-i+1):\n",
    " \n",
    "        # let there be a space between each factor\n",
    "            print(end=\" \")\n",
    " \n",
    "        for j in range(i+1):\n",
    " \n",
    "        # nCr = n!/((n-r)!*r!)\n",
    "            print(factorial(i)//(factorial(j)*factorial(i-j)), end=\" \")\n",
    "\n",
    "        print()\n",
    "        \n",
    "print(firstrow(10))"
   ]
  },
  {
   "cell_type": "code",
   "execution_count": 46,
   "id": "e3442751",
   "metadata": {},
   "outputs": [
    {
     "name": "stdout",
     "output_type": "stream",
     "text": [
      "{'est': 3.0, 'lwr': 1.125, 'upr': 4.875, 'level': 0.8}\n"
     ]
    }
   ],
   "source": [
    "##Q3 A\n",
    "def parta(data, xx, controller):\n",
    "    \n",
    "    try :\n",
    "        data = np.array(data)\n",
    "\n",
    "        xbar = np.mean(data)\n",
    "\n",
    "        z = stats.norm.ppf(1-(xx/2)*0.01)\n",
    "\n",
    "        se = stats.sem(data)\n",
    "   \n",
    "        low_interval = round(xbar - z * se, 3)\n",
    "        high_interval = round(xbar + z * se, 3)\n",
    "        \n",
    "    except:\n",
    "        raise TypeError\n",
    "    \n",
    "    if controller:\n",
    "         result = {'est': xbar, 'lwr': low_interval , 'upr': high_interval , \n",
    "                   'level': xx}\n",
    "         return result\n",
    "    else:\n",
    "         return f'{xbar}[{xx*100}%CI: ({low_interval},{high_interval})]'\n",
    "\n",
    "         \n",
    "\n",
    "##check\n",
    "data = [1, 2, 3, 4, 5]\n",
    "print (parta(data, 0.8, True))"
   ]
  },
  {
   "cell_type": "code",
   "execution_count": 47,
   "id": "ad8f6711",
   "metadata": {},
   "outputs": [],
   "source": [
    "##Q3 B\n",
    "def partb(method):\n",
    "    if method == 'method1':\n",
    "        return  method1(data, xx, controller)\n",
    "    \n",
    "    elif method == 'method2':\n",
    "        return method2(data, xx, controller)\n",
    "    \n",
    "    elif method == 'method3':\n",
    "        return method3(data, xx, controller)\n",
    "    \n",
    "    elif method == 'method4':\n",
    "        return method4(data, xx, controller)\n",
    "    \n",
    "    else: print ('the method is not defined')\n",
    "\n",
    "def method1(data, xx, controller):\n",
    "    if min(n*p,(n*(1-p))) > 12 :\n",
    "        print ('warning')\n",
    "    else:\n",
    "        data = np.array(data)\n",
    "        n = np.size(data)\n",
    "        x = np.count_nonzero(data == 1)\n",
    "        p = x/n\n",
    "        xbar = np.mean(data)\n",
    "        z = stats.norm.ppf(1-(xx/2)*0.01)\n",
    "        low_interval = p - z*sqrt((p*(1-p))/n)\n",
    "        high_interval = p + z*sqrt((p*(1-p))/n)\n",
    "        \n",
    "        if controller:\n",
    "            \n",
    "            result = {'est': xbar, 'lwr': low_interval , 'upr': high_interval , \n",
    "                  'level': xx}\n",
    "            \n",
    "            return result\n",
    "        \n",
    "        else:\n",
    "            return f'{xbar}[{xx*100}%CI: ({low_interval},{high_interval})]'\n",
    "    \n",
    "def method2(data, xx, controller):\n",
    "    \n",
    "    data = np.array(data)\n",
    "    n = np.size(data)\n",
    "    x = np.count_nonzero(data == 1)\n",
    "    p = x/n\n",
    "    xbar = np.mean(data)\n",
    "    z = stats.norm.ppf(1-(xx/2)*0.01)\n",
    "    low_interval = scipy.stats.beta.ppf(xx/2, x, n-x+1)\n",
    "    high_interval = scipy.stats.beta.ppf(1-(xx/2), x+1, n-x)\n",
    "    \n",
    "    if controller:\n",
    "        result = {'est': xbar, 'lwr': low_interval , 'upr': high_interval , \n",
    "                   'level': xx}\n",
    "        return result\n",
    "    else:\n",
    "        return f'{xbar}[{xx*100}%CI: ({low_interval},{high_interval})]'\n",
    "    \n",
    "def method3(data, xx, controller):\n",
    "    \n",
    "    data = np.array(data)\n",
    "    n = np.size(data)\n",
    "    x = np.count_nonzero(data == 1)\n",
    "    p = x/n\n",
    "    xbar = np.mean(data)\n",
    "    z = stats.norm.ppf(1-(xx/2)*0.01)\n",
    "    low_interval = max(0, scipy.stats.beta.ppf(xx/2, x+0.5, n-x+0.5)) \n",
    "    high_interval = min(1, scipy.stats.beta.ppf(1-(xx/2), x+0.5, n-x+0.5))\n",
    "    \n",
    "    if controller:\n",
    "        result = {'est': xbar, 'lwr': low_interval , 'upr': high_interval , \n",
    "                   'level': xx}\n",
    "        return result\n",
    "    else:\n",
    "        return f'{xbar}[{xx*100}%CI: ({low_interval},{high_interval})]'\n",
    "         \n",
    "def method4(data, xx, controller):\n",
    "    \n",
    "    data = np.array(data)\n",
    "    n = np.size(data)\n",
    "    x = np.count_nonzero(data == 1)\n",
    "    p = x/n\n",
    "    nhat = n + (xx/2)**2\n",
    "    phat = (x + ((xx/2)**2)/2)/nhat\n",
    "    z = stats.norm.ppf(1-(xx/2)*0.01)\n",
    "    low_interval = phat - z*sqrt((phat*(1-phat))/nhat)\n",
    "    high_interval = phat + z*sqrt((phat*(1-phat))/nhat)\n",
    "    \n",
    "    if controller:\n",
    "        result = {'est': xbar, 'lwr': low_interval , 'upr': high_interval , \n",
    "                   'level': xx}\n",
    "        return result\n",
    "    else:\n",
    "        return f'{xbar}[{xx*100}%CI: ({low_interval},{high_interval})]'"
   ]
  },
  {
   "cell_type": "code",
   "execution_count": null,
   "id": "74359466",
   "metadata": {},
   "outputs": [],
   "source": []
  }
 ],
 "metadata": {
  "kernelspec": {
   "display_name": "Python 3",
   "language": "python",
   "name": "python3"
  },
  "language_info": {
   "codemirror_mode": {
    "name": "ipython",
    "version": 3
   },
   "file_extension": ".py",
   "mimetype": "text/x-python",
   "name": "python",
   "nbconvert_exporter": "python",
   "pygments_lexer": "ipython3",
   "version": "3.8.8"
  }
 },
 "nbformat": 4,
 "nbformat_minor": 5
}
