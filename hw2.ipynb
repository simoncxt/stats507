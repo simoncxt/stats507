{
 "cells": [
  {
   "cell_type": "code",
   "execution_count": null,
   "id": "4abeddc2",
   "metadata": {},
   "outputs": [],
   "source": [
    "import markdown\n",
    "import math\n",
    "import time\n",
    "import numpy as np\n",
    "import scipy.stats as stats\n",
    "import pandas as pd\n",
    "from collections import defaultdict\n",
    "from timeit import Timer\n",
    "from math import factorial"
   ]
  },
  {
   "cell_type": "code",
   "execution_count": null,
   "id": "312a293a",
   "metadata": {},
   "outputs": [],
   "source": [
    "##Q1\n",
    "list01 = np.random.randint(0, high=5, size=(4,5), dtype=int)\n",
    "tuple01 = [tuple(i) for i in list01]\n",
    "tuple01\n",
    "\n",
    "for i in tuple01:\n",
    "    assert \n",
    "    "
   ]
  }
 ],
 "metadata": {
  "kernelspec": {
   "display_name": "Python 3",
   "language": "python",
   "name": "python3"
  },
  "language_info": {
   "codemirror_mode": {
    "name": "ipython",
    "version": 3
   },
   "file_extension": ".py",
   "mimetype": "text/x-python",
   "name": "python",
   "nbconvert_exporter": "python",
   "pygments_lexer": "ipython3",
   "version": "3.8.8"
  }
 },
 "nbformat": 4,
 "nbformat_minor": 5
}
